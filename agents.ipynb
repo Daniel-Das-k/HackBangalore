{
 "cells": [
  {
   "cell_type": "code",
   "execution_count": null,
   "metadata": {},
   "outputs": [],
   "source": [
    "!pip install wikipedia langchainhub arxiv langchain-community langchain langchain_openai faiss-cpu"
   ]
  },
  {
   "cell_type": "code",
   "execution_count": 6,
   "metadata": {},
   "outputs": [],
   "source": [
    "from langchain_community.tools import WikipediaQueryRun\n",
    "from langchain_community.utilities import WikipediaAPIWrapper"
   ]
  },
  {
   "cell_type": "code",
   "execution_count": 7,
   "metadata": {},
   "outputs": [],
   "source": [
    "api_wrapper = WikipediaAPIWrapper(top_k_results=1,doc_content_chars_max=200)\n",
    "wiki = WikipediaQueryRun(api_wrapper=api_wrapper)"
   ]
  },
  {
   "cell_type": "code",
   "execution_count": 8,
   "metadata": {},
   "outputs": [
    {
     "data": {
      "text/plain": [
       "'wikipedia'"
      ]
     },
     "execution_count": 8,
     "metadata": {},
     "output_type": "execute_result"
    }
   ],
   "source": [
    "wiki.name"
   ]
  },
  {
   "cell_type": "code",
   "execution_count": 25,
   "metadata": {},
   "outputs": [],
   "source": [
    "from langchain_community.document_loaders import WebBaseLoader\n",
    "from langchain_community.vectorstores import FAISS\n",
    "from langchain_openai import OpenAIEmbeddings\n",
    "from langchain_text_splitters import RecursiveCharacterTextSplitter\n",
    "\n",
    "loader = WebBaseLoader([\"https://msme.gov.in/\",\"https://udyamregistration.gov.in/\",\"https://en.wikipedia.org/wiki/Ministry_of_Micro_Small_and_Medium_Enterprises\"])\n",
    "docs = loader.load()\n",
    "documents = RecursiveCharacterTextSplitter(chunk_size = 20,chunk_overlap = 2).split_documents(docs)\n",
    "vectordb = FAISS.from_documents(documents,OpenAIEmbeddings(api_key=\"sk-proj-FfPGagp6wyt1vjEmk7IQT3BlbkFJI5a5XNrku0JtG4DlqIFm\"))\n",
    "retriever = vectordb.as_retriever()\n",
    "retriever.name"
   ]
  },
  {
   "cell_type": "code",
   "execution_count": 26,
   "metadata": {},
   "outputs": [
    {
     "data": {
      "text/plain": [
       "'sme_search'"
      ]
     },
     "execution_count": 26,
     "metadata": {},
     "output_type": "execute_result"
    }
   ],
   "source": [
    "from langchain.tools.retriever import create_retriever_tool\n",
    "retriever_tool = create_retriever_tool(retriever,\"sme_search\",\n",
    "                      \"Search for information relevant to small and medium enterprises (SMEs). If you have any questions about SMEs, you can use this tool.\")\n",
    "retriever_tool.name"
   ]
  },
  {
   "cell_type": "code",
   "execution_count": 27,
   "metadata": {},
   "outputs": [
    {
     "data": {
      "text/plain": [
       "'arxiv'"
      ]
     },
     "execution_count": 27,
     "metadata": {},
     "output_type": "execute_result"
    }
   ],
   "source": [
    "from langchain_community.utilities import ArxivAPIWrapper\n",
    "from langchain_community.tools import ArxivQueryRun\n",
    "\n",
    "arxiv_wrapper = ArxivAPIWrapper(top_k_results=1,doc_content_chars_max=200)\n",
    "arxiv = ArxivQueryRun(api_wrapper=arxiv_wrapper)\n",
    "arxiv.name\n"
   ]
  },
  {
   "cell_type": "code",
   "execution_count": 28,
   "metadata": {},
   "outputs": [
    {
     "data": {
      "text/plain": [
       "[Tool(name='sme_search', description='Search for information relevant to small and medium enterprises (SMEs). If you have any questions about SMEs, you can use this tool.', args_schema=<class 'langchain_core.tools.RetrieverInput'>, func=functools.partial(<function _get_relevant_documents at 0x1067507c0>, retriever=VectorStoreRetriever(tags=['FAISS', 'OpenAIEmbeddings'], vectorstore=<langchain_community.vectorstores.faiss.FAISS object at 0x16a649400>), document_prompt=PromptTemplate(input_variables=['page_content'], template='{page_content}'), document_separator='\\n\\n'), coroutine=functools.partial(<function _aget_relevant_documents at 0x106750c20>, retriever=VectorStoreRetriever(tags=['FAISS', 'OpenAIEmbeddings'], vectorstore=<langchain_community.vectorstores.faiss.FAISS object at 0x16a649400>), document_prompt=PromptTemplate(input_variables=['page_content'], template='{page_content}'), document_separator='\\n\\n')),\n",
       " ArxivQueryRun(api_wrapper=ArxivAPIWrapper(arxiv_search=<class 'arxiv.Search'>, arxiv_exceptions=(<class 'arxiv.ArxivError'>, <class 'arxiv.UnexpectedEmptyPageError'>, <class 'arxiv.HTTPError'>), top_k_results=1, ARXIV_MAX_QUERY_LENGTH=300, continue_on_failure=False, load_max_docs=100, load_all_available_meta=False, doc_content_chars_max=200, arxiv_result=<class 'arxiv.Result'>)),\n",
       " WikipediaQueryRun(api_wrapper=WikipediaAPIWrapper(wiki_client=<module 'wikipedia' from '/Users/danieldas/Documents/vscode/Projects/hackbangalore/hackban/lib/python3.12/site-packages/wikipedia/__init__.py'>, top_k_results=1, lang='en', load_all_available_meta=False, doc_content_chars_max=200))]"
      ]
     },
     "execution_count": 28,
     "metadata": {},
     "output_type": "execute_result"
    }
   ],
   "source": [
    "tools = [retriever_tool,arxiv,wiki]\n",
    "tools"
   ]
  },
  {
   "cell_type": "code",
   "execution_count": 29,
   "metadata": {},
   "outputs": [],
   "source": [
    "from langchain_openai import ChatOpenAI\n",
    "llm = ChatOpenAI(model=\"gpt-3.5-turbo-0125\",temperature=0,api_key=\"sk-proj-FfPGagp6wyt1vjEmk7IQT3BlbkFJI5a5XNrku0JtG4DlqIFm\")"
   ]
  },
  {
   "cell_type": "code",
   "execution_count": 31,
   "metadata": {},
   "outputs": [
    {
     "data": {
      "text/plain": [
       "[SystemMessagePromptTemplate(prompt=PromptTemplate(input_variables=[], template='You are a helpful assistant')),\n",
       " MessagesPlaceholder(variable_name='chat_history', optional=True),\n",
       " HumanMessagePromptTemplate(prompt=PromptTemplate(input_variables=['input'], template='{input}')),\n",
       " MessagesPlaceholder(variable_name='agent_scratchpad')]"
      ]
     },
     "execution_count": 31,
     "metadata": {},
     "output_type": "execute_result"
    }
   ],
   "source": [
    "from langchain import hub\n",
    "prompt = hub.pull(\"hwchase17/openai-functions-agent\")\n",
    "prompt.messages"
   ]
  },
  {
   "cell_type": "code",
   "execution_count": 32,
   "metadata": {},
   "outputs": [],
   "source": [
    "from langchain.agents import create_openai_tools_agent\n",
    "agent = create_openai_tools_agent(llm,tools,prompt)"
   ]
  },
  {
   "cell_type": "code",
   "execution_count": 33,
   "metadata": {},
   "outputs": [
    {
     "data": {
      "text/plain": [
       "AgentExecutor(verbose=True, agent=RunnableMultiActionAgent(runnable=RunnableAssign(mapper={\n",
       "  agent_scratchpad: RunnableLambda(lambda x: format_to_openai_tool_messages(x['intermediate_steps']))\n",
       "})\n",
       "| ChatPromptTemplate(input_variables=['agent_scratchpad', 'input'], input_types={'chat_history': typing.List[typing.Union[langchain_core.messages.ai.AIMessage, langchain_core.messages.human.HumanMessage, langchain_core.messages.chat.ChatMessage, langchain_core.messages.system.SystemMessage, langchain_core.messages.function.FunctionMessage, langchain_core.messages.tool.ToolMessage]], 'agent_scratchpad': typing.List[typing.Union[langchain_core.messages.ai.AIMessage, langchain_core.messages.human.HumanMessage, langchain_core.messages.chat.ChatMessage, langchain_core.messages.system.SystemMessage, langchain_core.messages.function.FunctionMessage, langchain_core.messages.tool.ToolMessage]]}, metadata={'lc_hub_owner': 'hwchase17', 'lc_hub_repo': 'openai-functions-agent', 'lc_hub_commit_hash': 'a1655024b06afbd95d17449f21316291e0726f13dcfaf990cc0d18087ad689a5'}, messages=[SystemMessagePromptTemplate(prompt=PromptTemplate(input_variables=[], template='You are a helpful assistant')), MessagesPlaceholder(variable_name='chat_history', optional=True), HumanMessagePromptTemplate(prompt=PromptTemplate(input_variables=['input'], template='{input}')), MessagesPlaceholder(variable_name='agent_scratchpad')])\n",
       "| RunnableBinding(bound=ChatOpenAI(client=<openai.resources.chat.completions.Completions object at 0x16a5c3fb0>, async_client=<openai.resources.chat.completions.AsyncCompletions object at 0x16a5c0860>, model_name='gpt-3.5-turbo-0125', temperature=0.0, openai_api_key=SecretStr('**********'), openai_proxy=''), kwargs={'tools': [{'type': 'function', 'function': {'name': 'sme_search', 'description': 'Search for information relevant to small and medium enterprises (SMEs). If you have any questions about SMEs, you can use this tool.', 'parameters': {'type': 'object', 'properties': {'query': {'description': 'query to look up in retriever', 'type': 'string'}}, 'required': ['query']}}}, {'type': 'function', 'function': {'name': 'arxiv', 'description': 'A wrapper around Arxiv.org Useful for when you need to answer questions about Physics, Mathematics, Computer Science, Quantitative Biology, Quantitative Finance, Statistics, Electrical Engineering, and Economics from scientific articles on arxiv.org. Input should be a search query.', 'parameters': {'type': 'object', 'properties': {'query': {'description': 'search query to look up', 'type': 'string'}}, 'required': ['query']}}}, {'type': 'function', 'function': {'name': 'wikipedia', 'description': 'A wrapper around Wikipedia. Useful for when you need to answer general questions about people, places, companies, facts, historical events, or other subjects. Input should be a search query.', 'parameters': {'properties': {'__arg1': {'title': '__arg1', 'type': 'string'}}, 'required': ['__arg1'], 'type': 'object'}}}]})\n",
       "| OpenAIToolsAgentOutputParser(), input_keys_arg=[], return_keys_arg=[], stream_runnable=True), tools=[Tool(name='sme_search', description='Search for information relevant to small and medium enterprises (SMEs). If you have any questions about SMEs, you can use this tool.', args_schema=<class 'langchain_core.tools.RetrieverInput'>, func=functools.partial(<function _get_relevant_documents at 0x1067507c0>, retriever=VectorStoreRetriever(tags=['FAISS', 'OpenAIEmbeddings'], vectorstore=<langchain_community.vectorstores.faiss.FAISS object at 0x16a649400>), document_prompt=PromptTemplate(input_variables=['page_content'], template='{page_content}'), document_separator='\\n\\n'), coroutine=functools.partial(<function _aget_relevant_documents at 0x106750c20>, retriever=VectorStoreRetriever(tags=['FAISS', 'OpenAIEmbeddings'], vectorstore=<langchain_community.vectorstores.faiss.FAISS object at 0x16a649400>), document_prompt=PromptTemplate(input_variables=['page_content'], template='{page_content}'), document_separator='\\n\\n')), ArxivQueryRun(api_wrapper=ArxivAPIWrapper(arxiv_search=<class 'arxiv.Search'>, arxiv_exceptions=(<class 'arxiv.ArxivError'>, <class 'arxiv.UnexpectedEmptyPageError'>, <class 'arxiv.HTTPError'>), top_k_results=1, ARXIV_MAX_QUERY_LENGTH=300, continue_on_failure=False, load_max_docs=100, load_all_available_meta=False, doc_content_chars_max=200, arxiv_result=<class 'arxiv.Result'>)), WikipediaQueryRun(api_wrapper=WikipediaAPIWrapper(wiki_client=<module 'wikipedia' from '/Users/danieldas/Documents/vscode/Projects/hackbangalore/hackban/lib/python3.12/site-packages/wikipedia/__init__.py'>, top_k_results=1, lang='en', load_all_available_meta=False, doc_content_chars_max=200))])"
      ]
     },
     "execution_count": 33,
     "metadata": {},
     "output_type": "execute_result"
    }
   ],
   "source": [
    "from langchain.agents import AgentExecutor\n",
    "agent_executor = AgentExecutor(agent=agent,tools=tools,verbose=True)\n",
    "agent_executor"
   ]
  },
  {
   "cell_type": "code",
   "execution_count": 34,
   "metadata": {},
   "outputs": [
    {
     "name": "stdout",
     "output_type": "stream",
     "text": [
      "\n",
      "\n",
      "\u001b[1m> Entering new AgentExecutor chain...\u001b[0m\n",
      "\u001b[32;1m\u001b[1;3m\n",
      "Invoking: `wikipedia` with `Langsmith`\n",
      "\n",
      "\n",
      "\u001b[0m\u001b[38;5;200m\u001b[1;3mNo good Wikipedia Search Result was found\u001b[0m\u001b[32;1m\u001b[1;3mI couldn't find any information about \"Langsmith\" on Wikipedia. Would you like me to search for information about Langsmith using a different source?\u001b[0m\n",
      "\n",
      "\u001b[1m> Finished chain.\u001b[0m\n"
     ]
    },
    {
     "data": {
      "text/plain": [
       "{'input': 'Tell me about Langsmith',\n",
       " 'output': 'I couldn\\'t find any information about \"Langsmith\" on Wikipedia. Would you like me to search for information about Langsmith using a different source?'}"
      ]
     },
     "execution_count": 34,
     "metadata": {},
     "output_type": "execute_result"
    }
   ],
   "source": [
    "agent_executor.invoke({\"input\":\"Tell me about Langsmith\"})"
   ]
  },
  {
   "cell_type": "code",
   "execution_count": 35,
   "metadata": {},
   "outputs": [
    {
     "name": "stdout",
     "output_type": "stream",
     "text": [
      "\n",
      "\n",
      "\u001b[1m> Entering new AgentExecutor chain...\u001b[0m\n",
      "\u001b[32;1m\u001b[1;3m\n",
      "Invoking: `wikipedia` with `Bangalore`\n",
      "\n",
      "\n",
      "\u001b[0m\u001b[38;5;200m\u001b[1;3mPage: Bangalore\n",
      "Summary: Bangalore ( BANG-gə-lor, -⁠LOR), officially Bengaluru (Kannada pronunciation: [ˈbeŋgɐɭuːɾu] ), is the capital and largest city of the southern Indian state of Karnataka. It ha\u001b[0m\u001b[32;1m\u001b[1;3mBangalore, officially known as Bengaluru, is the capital and largest city of the southern Indian state of Karnataka. It is a vibrant city known for its pleasant climate, green spaces, and thriving technology industry. If you would like more detailed information about Bangalore, feel free to ask!\u001b[0m\n",
      "\n",
      "\u001b[1m> Finished chain.\u001b[0m\n"
     ]
    },
    {
     "data": {
      "text/plain": [
       "{'input': 'Tell me about bangalore',\n",
       " 'output': 'Bangalore, officially known as Bengaluru, is the capital and largest city of the southern Indian state of Karnataka. It is a vibrant city known for its pleasant climate, green spaces, and thriving technology industry. If you would like more detailed information about Bangalore, feel free to ask!'}"
      ]
     },
     "execution_count": 35,
     "metadata": {},
     "output_type": "execute_result"
    }
   ],
   "source": [
    "agent_executor.invoke({\"input\":\"Tell me about bangalore\"})"
   ]
  },
  {
   "cell_type": "code",
   "execution_count": 36,
   "metadata": {},
   "outputs": [
    {
     "name": "stdout",
     "output_type": "stream",
     "text": [
      "\n",
      "\n",
      "\u001b[1m> Entering new AgentExecutor chain...\u001b[0m\n",
      "\u001b[32;1m\u001b[1;3m\n",
      "Invoking: `wikipedia` with `Small and medium-sized enterprises`\n",
      "\n",
      "\n",
      "\u001b[0m\u001b[38;5;200m\u001b[1;3mPage: Small and medium-sized enterprises\n",
      "Summary: Small and medium-sized enterprises (SMEs) or small and medium-sized businesses (SMBs) are businesses whose personnel and revenue numbers fall below ce\u001b[0m\u001b[32;1m\u001b[1;3mSmall and medium-sized enterprises (SMEs) or small and medium-sized businesses (SMBs) are businesses whose personnel and revenue numbers fall below certain limits. SMEs are commonly defined as businesses with fewer than 250 employees and annual revenue below a certain threshold. These enterprises play a crucial role in the economy by contributing to job creation, innovation, and economic growth.\u001b[0m\n",
      "\n",
      "\u001b[1m> Finished chain.\u001b[0m\n"
     ]
    },
    {
     "data": {
      "text/plain": [
       "'Small and medium-sized enterprises (SMEs) or small and medium-sized businesses (SMBs) are businesses whose personnel and revenue numbers fall below certain limits. SMEs are commonly defined as businesses with fewer than 250 employees and annual revenue below a certain threshold. These enterprises play a crucial role in the economy by contributing to job creation, innovation, and economic growth.'"
      ]
     },
     "execution_count": 36,
     "metadata": {},
     "output_type": "execute_result"
    }
   ],
   "source": [
    "agent_executor.invoke({\"input\":\"what is Small medium enterprises\" })[\"output\"]"
   ]
  },
  {
   "cell_type": "code",
   "execution_count": null,
   "metadata": {},
   "outputs": [
    {
     "name": "stdout",
     "output_type": "stream",
     "text": [
      "\n",
      "\n",
      "\u001b[1m> Entering new AgentExecutor chain...\u001b[0m\n",
      "\u001b[32;1m\u001b[1;3m\n",
      "Invoking: `sme_search` with `{'query': 'eligibility for applying for Small Medium Enterprises'}`\n",
      "\n",
      "\n",
      "\u001b[0m\u001b[36;1m\u001b[1;3mMedium Enterprises\n",
      "\n",
      "Medium Enterprises\n",
      "\n",
      "Medium Enterprises\n",
      "\n",
      "entitled to do MSME\u001b[0m\u001b[32;1m\u001b[1;3m\n",
      "Invoking: `sme_search` with `{'query': 'eligibility criteria for applying for Small and Medium Enterprises'}`\n",
      "responded: It seems like there was an issue with the search results. Let me try to refine the search query to provide you with accurate information on the eligibility criteria for applying for Small and Medium Enterprises (SMEs).\n",
      "\n",
      "\u001b[0m\u001b[36;1m\u001b[1;3mMedium Enterprises\n",
      "\n",
      "Medium Enterprises\n",
      "\n",
      "Medium Enterprises\n",
      "\n",
      "MSME registration\u001b[0m\u001b[32;1m\u001b[1;3m\n",
      "Invoking: `sme_search` with `{'query': 'eligibility criteria for Small and Medium Enterprises'}`\n",
      "responded: It appears that the search results are still not providing the specific eligibility criteria for applying for Small and Medium Enterprises (SMEs). Let me try another approach to gather the required information for you.\n",
      "\n",
      "\u001b[0m\u001b[36;1m\u001b[1;3mMedium Enterprises\n",
      "\n",
      "Medium Enterprises\n",
      "\n",
      "Medium Enterprises\n",
      "\n",
      "Medium Enterprises,\u001b[0m\u001b[32;1m\u001b[1;3m\n",
      "Invoking: `sme_search` with `{'query': 'requirements for applying for Small and Medium Enterprises'}`\n",
      "responded: It appears that the search results are still not providing the specific eligibility criteria for applying for Small and Medium Enterprises (SMEs). Let me try another approach to gather the required information for you.\n",
      "\n",
      "\u001b[0m\u001b[36;1m\u001b[1;3mMSME registration\n",
      "\n",
      "MSME Registration\n",
      "\n",
      "MSME Registration\n",
      "\n",
      "Medium Enterprises\u001b[0m\u001b[32;1m\u001b[1;3m\n",
      "Invoking: `sme_search` with `{'query': 'eligibility criteria for Small and Medium Enterprises (SMEs)'}`\n",
      "responded: It seems that the search results are still not providing the specific eligibility criteria for applying for Small and Medium Enterprises (SMEs). Let me try one more time to gather the required information for you.\n",
      "\n",
      "\u001b[0m\u001b[36;1m\u001b[1;3mMedium Enterprises\n",
      "\n",
      "Medium Enterprises\n",
      "\n",
      "Medium Enterprises\n",
      "\n",
      "MSME\u001b[0m\u001b[32;1m\u001b[1;3mI apologize for the inconvenience. The search results are still not providing the specific eligibility criteria for applying for Small and Medium Enterprises (SMEs). \n",
      "\n",
      "In general, the eligibility criteria for SMEs may vary depending on the country or region. However, some common eligibility requirements for SMEs may include:\n",
      "\n",
      "1. Business Size: Typically, SMEs are defined based on the number of employees and annual revenue. The specific thresholds for small and medium enterprises may vary by industry and location.\n",
      "\n",
      "2. Legal Status: The business should be registered as a legal entity, such as a sole proprietorship, partnership, limited liability company, etc.\n",
      "\n",
      "3. Compliance: The business should comply with all legal and regulatory requirements, including tax obligations, licenses, permits, and certifications.\n",
      "\n",
      "4. Business Plan: Having a well-defined business plan outlining the objectives, target market, products or services, and financial projections may be required.\n",
      "\n",
      "5. Financial Stability: Demonstrating financial stability and the ability to repay loans or investments is often a key factor in the eligibility criteria.\n",
      "\n",
      "It is recommended to check with the specific authorities or organizations in your region for detailed information on the eligibility criteria for applying for Small and Medium Enterprises (SMEs).\u001b[0m\n",
      "\n",
      "\u001b[1m> Finished chain.\u001b[0m\n"
     ]
    },
    {
     "data": {
      "text/plain": [
       "'I apologize for the inconvenience. The search results are still not providing the specific eligibility criteria for applying for Small and Medium Enterprises (SMEs). \\n\\nIn general, the eligibility criteria for SMEs may vary depending on the country or region. However, some common eligibility requirements for SMEs may include:\\n\\n1. Business Size: Typically, SMEs are defined based on the number of employees and annual revenue. The specific thresholds for small and medium enterprises may vary by industry and location.\\n\\n2. Legal Status: The business should be registered as a legal entity, such as a sole proprietorship, partnership, limited liability company, etc.\\n\\n3. Compliance: The business should comply with all legal and regulatory requirements, including tax obligations, licenses, permits, and certifications.\\n\\n4. Business Plan: Having a well-defined business plan outlining the objectives, target market, products or services, and financial projections may be required.\\n\\n5. Financial Stability: Demonstrating financial stability and the ability to repay loans or investments is often a key factor in the eligibility criteria.\\n\\nIt is recommended to check with the specific authorities or organizations in your region for detailed information on the eligibility criteria for applying for Small and Medium Enterprises (SMEs).'"
      ]
     },
     "execution_count": 110,
     "metadata": {},
     "output_type": "execute_result"
    }
   ],
   "source": [
    "agent_executor.invoke({\"input\":\"what is the eligibility for applying for Small medium enterprises\" })[\"output\"]"
   ]
  }
 ],
 "metadata": {
  "kernelspec": {
   "display_name": ".venv",
   "language": "python",
   "name": "python3"
  },
  "language_info": {
   "codemirror_mode": {
    "name": "ipython",
    "version": 3
   },
   "file_extension": ".py",
   "mimetype": "text/x-python",
   "name": "python",
   "nbconvert_exporter": "python",
   "pygments_lexer": "ipython3",
   "version": "3.12.3"
  }
 },
 "nbformat": 4,
 "nbformat_minor": 2
}
